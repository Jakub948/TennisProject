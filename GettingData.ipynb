{
 "cells": [
  {
   "cell_type": "code",
   "execution_count": 1,
   "metadata": {},
   "outputs": [],
   "source": [
    "import requests\n",
    "from bs4 import BeautifulSoup\n",
    "import pandas as pd\n",
    "import numpy as np\n",
    "from time import sleep\n",
    "from tqdm import tqdm\n",
    "import re"
   ]
  },
  {
   "cell_type": "code",
   "execution_count": 2,
   "metadata": {},
   "outputs": [],
   "source": [
    "def getSoup(link):###vytvoříme funkci, která získá z URL adresy text\n",
    "    sleep(0.05)\n",
    "    r = requests.get(link)\n",
    "    return BeautifulSoup(r.text,'lxml')"
   ]
  },
  {
   "cell_type": "code",
   "execution_count": 3,
   "metadata": {},
   "outputs": [],
   "source": [
    "def getAllLinks(link):###najdeme tabulku linků\n",
    "    soup = getSoup(link)\n",
    "    table = soup.find('table', {'id':'reportable'})\n",
    "    tds = table.findAll('td', {'align':'left'})\n",
    "    a = [td.find('a') for td in tds]\n",
    "    res = [i for i in a if i]\n",
    "    return res"
   ]
  },
  {
   "cell_type": "code",
   "execution_count": 4,
   "metadata": {},
   "outputs": [],
   "source": [
    "links = getAllLinks('http://tennisabstract.com/reports/atpRankings.html')###získáme všechny linky"
   ]
  },
  {
   "cell_type": "code",
   "execution_count": 5,
   "metadata": {},
   "outputs": [],
   "source": [
    "b = [str(links[i])for i in range(len(links))]\n",
    "c = [i.replace('\"', '!') for i in b]\n",
    "d = [o.split(\"!\") for o in c]\n",
    "flinks = [d[p][1] for p in range(len(d))]"
   ]
  },
  {
   "cell_type": "code",
   "execution_count": 6,
   "metadata": {},
   "outputs": [],
   "source": [
    "Namesss = [flink.replace('http://www.tennisabstract.com/cgi-bin/player.cgi?p=', '') for flink in flinks]###získáme jména\n",
    "Names=Namesss[:150]"
   ]
  },
  {
   "cell_type": "code",
   "execution_count": 7,
   "metadata": {},
   "outputs": [
    {
     "name": "stdout",
     "output_type": "stream",
     "text": [
      "[['Novak Djokovic', 1, '85.8%', '32.1%'], ['Rafael Nadal', 2, '85.9%', '33.4%'], ['Dominic Thiem', 3, '83.2%', '23.8%'], ['Daniil Medvedev', 4, '82.4%', '25.5%'], ['Roger Federer', 5, '88.8%', '26.7%'], ['Stefanos Tsitsipas', 6, '85.6%', '19.8%'], ['Alexander Zverev', 7, '81.5%', '24.7%'], ['Andrey Rublev', 8, '80.2%', '25.5%'], ['Diego Sebastian Schwartzman', 9, '72.3%', '32.1%'], ['Matteo Berrettini', 10, '86.8%', '17.4%'], ['Gael Monfils', 11, '80.8%', '25.1%'], ['Denis Shapovalov', 12, '83.7%', '18.6%'], ['Roberto Bautista Agut', 13, '80.3%', '26.5%'], ['Milos Raonic', 14, '91.3%', '15.9%'], ['David Goffin', 15, '77.8%', '27.6%'], ['Pablo Carreno Busta', 16, '77.8%', '24.6%'], ['Fabio Fognini', 17, '72.0%', '27.2%'], ['Stanislas Wawrinka', 18, '82.8%', '22.7%'], ['Felix Auger Aliassime', 19, '81.1%', '20.0%'], ['Karen Khachanov', 20, '82.6%', '21.0%'], ['Grigor Dimitrov', 21, '82.6%', '21.8%'], ['Christian Garin', 22, '75.7%', '23.9%'], ['Alex De Minaur', 23, '79.6%', '23.5%'], ['John Isner', 24, '91.8%', '10.4%'], ['Borna Coric', 25, '81.3%', '20.5%'], ['Daniel Evans', 26, '77.2%', '23.2%'], ['Dusan Lajovic', 27, '77.8%', '20.6%'], ['Casper Ruud', 28, '81.1%', '22.1%'], ['Benoit Paire', 29, '74.7%', '23.8%'], ['Hubert Hurkacz', 30, '80.4%', '19.7%'], ['Taylor Harry Fritz', 31, '81.8%', '17.9%'], ['Jannik Sinner', 32, '78.3%', '25.9%'], ['Filip Krajinovic', 33, '76.0%', '24.3%'], ['Ugo Humbert', 34, '83.2%', '18.7%'], ['Lorenzo Sonego', 35, '82.0%', '15.5%'], ['Adrian Mannarino', 36, '75.8%', '22.5%'], ['Jan Lennard Struff', 37, '80.9%', '19.1%'], ['Reilly Opelka', 38, '90.6%', '9.8%'], ['John Millman', 39, '76.9%', '22.8%'], ['Nikoloz Basilashvili', 40, '73.5%', '21.9%'], ['Miomir Kecmanovic', 41, '78.4%', '22.2%'], ['Kei Nishikori', 42, '80.1%', '26.9%'], ['Marin Cilic', 43, '83.9%', '22.7%'], ['Guido Pella', 44, '78.1%', '20.9%'], ['Alexander Bublik', 45, '78.3%', '17.9%'], ['Albert Ramos', 46, '76.4%', '22.8%'], ['Nick Kyrgios', 47, '88.2%', '16.3%'], ['Richard Gasquet', 48, '82.0%', '24.8%'], ['Jordan Thompson', 49, '77.4%', '20.0%'], ['Kyle Edmund', 50, '81.4%', '20.2%'], ['Tennys Sandgren', 51, '80.1%', '16.6%'], ['Sam Querrey', 52, '84.9%', '17.5%'], ['Tommy Paul', 53, '76.9%', '22.5%'], ['Alejandro Davidovich Fokina', 54, '67.7%', '27.8%'], ['Marton Fucsovics', 55, '75.8%', '26.0%'], ['Laslo Djere', 56, '76.0%', '19.4%'], ['Aljaz Bedene', 57, '77.8%', '19.6%'], ['Yoshihito Nishioka', 58, '72.0%', '24.7%'], ['Pablo Andujar', 59, '70.3%', '24.8%'], ['Stefano Travaglia', 60, '77.1%', '21.2%'], ['Jeremy Chardy', 61, '80.7%', '19.1%'], ['Jo Wilfried Tsonga', 62, '87.1%', '20.1%'], ['Vasek Pospisil', 63, '82.7%', '14.9%'], ['Francis Tiafoe', 64, '78.7%', '18.5%'], ['Feliciano Lopez', 65, '84.0%', '15.4%'], ['Gilles Simon', 66, '76.4%', '26.8%'], ['Fernando Verdasco', 67, '80.5%', '23.9%'], ['Jiri Vesely', 68, '80.9%', '18.9%'], ['Cameron Norrie', 69, '76.8%', '22.8%'], ['Dominik Koepfer', 70, '74.0%', '23.2%'], ['Corentin Moutet', 71, '70.0%', '22.1%'], ['Pablo Cuevas', 72, '79.2%', '21.0%'], ['Ricardas Berankis', 73, '77.2%', '19.7%'], ['Thiago Monteiro', 74, '79.3%', '17.6%'], ['Marcos Giron', 75, '76.4%', '18.2%'], ['Lucas Pouille', 76, '80.7%', '19.5%'], ['Steve Johnson', 77, '84.0%', '16.2%'], ['Salvatore Caruso', 78, '72.5%', '22.6%'], ['Egor Gerasimov', 79, '82.2%', '18.8%'], ['Federico Delbonis', 80, '77.2%', '21.4%'], ['Kevin Anderson', 81, '86.7%', '16.4%'], ['Marco Cecchinato', 82, '75.2%', '17.4%'], ['Juan Ignacio Londero', 83, '78.2%', '21.1%'], ['Pierre Hugues Herbert', 84, '81.0%', '16.0%'], ['Radu Albot', 85, '72.4%', '22.6%'], ['Emil Ruusuvuori', 86, '75.6%', '23.1%'], ['Pedro Martinez Portero', 87, '70.9%', '28.4%'], ['Sebastian Korda', 88, '76.0%', '26.2%'], ['Norbert Gombos', 89, '74.4%', '17.4%'], ['Mikhail Kukushkin', 90, '74.2%', '22.8%'], ['Lloyd George Muirhead Harris', 91, '78.2%', '21.0%'], ['Federico Coria', 92, '65.5%', '23.9%'], ['Joao Sousa', 93, '75.4%', '21.3%'], ['Attila Balazs', 94, '76.1%', '19.9%'], ['Mikael Ymer', 95, '71.0%', '27.0%'], ['Gianluca Mager', 96, '77.7%', '19.5%'], ['Soon Woo Kwon', 97, '77.1%', '19.7%'], ['Dennis Novak', 98, '75.0%', '20.7%'], ['Roberto Carballes Baena', 99, '73.2%', '24.3%'], ['Philipp Kohlschreiber', 100, '81.6%', '22.2%'], ['Jaume Munar', 101, '73.0%', '21.7%'], ['Yannick Hanfmann', 102, '78.2%', '20.5%'], ['Andrej Martin', 103, '69.9%', '26.7%'], ['Yuichi Sugita', 104, '73.9%', '19.1%'], ['James Duckworth', 105, '78.5%', '13.7%'], ['Yasutaka Uchiyama', 106, '79.6%', '13.4%'], ['Pedro Sousa', 107, '68.3%', '22.4%'], ['Andreas Seppi', 108, '76.2%', '22.9%'], ['Kamil Majchrzak', 109, '74.8%', '17.7%'], ['Ilya Ivashka', 110, '74.9%', '22.7%'], ['Gregoire Barrere', 111, '72.1%', '18.3%'], ['Hugo Dellien', 112, '66.5%', '23.2%'], ['Alexei Popyrin', 113, '80.3%', '14.0%'], ['Aslan Karatsev', 114, '75.7%', '24.3%'], ['Daniel Elahi Galan Riveros', 115, '77.1%', '24.7%'], ['Denis Kudla', 116, '74.6%', '18.9%'], ['Thiago Seyboth Wild', 117, '79.1%', '21.0%'], ['Taro Daniel', 118, '71.1%', '20.7%'], ['Antonie Hoang', 119, '70.0%', '21.2%'], ['Damir Dzumhur', 120, '70.7%', '27.0%'], ['Christopher Oconnell', 121, '81.0%', '13.1%'], ['Lorenzo Musetti', 122, '77.6%', '30.7%'], ['Evgeny Donskoy', 123, '76.6%', '14.9%'], ['Jozef Kovalik', 124, '74.3%', '18.2%'], ['Andy Murray', 125, '81.9%', '31.3%'], ['Marc Polmans', 126, '69.6%', '21.2%'], ['Facundo Bagnis', 127, '72.1%', '16.8%'], ['Carlos Taberner', 128, '76.9%', '11.3%'], ['Cedrik Marcel Stebe', 129, '67.9%', '23.7%'], ['Jeffrey John Wolf', 130, '70.5%', '25.4%'], ['Prajnesh Gunneswaran', 131, '72.7%', '12.4%'], ['Go Soeda', 132, '70.6%', '17.3%'], ['Brandon Nakashima', 133, '87.3%', '18.6%'], ['Daniel Altmaier', 134, '75.2%', '17.1%'], ['Leonardo Mayer', 135, '81.8%', '17.4%'], ['Jason Jung', 136, '74.4%', '17.0%'], ['Benjamin Bonzi', 137, '71.0%', '25.5%'], ['Arthur Rinderknech', 138, '80.0%', '0.0%'], ['Henri Laaksonen', 139, '75.6%', '20.8%'], ['Federico Gaio', 140, '74.1%', '15.6%'], ['Carlos Alcaraz Garfia', 141, '73.6%', '31.0%'], ['Bernabe Zapata Miralles', 142, '62.0%', '32.6%'], ['Peter Gojowczyk', 143, '77.4%', '19.1%'], ['Sumit Nagal', 144, '58.1%', '18.1%'], ['Nikola Milojevic', 145, '72.1%', '30.8%'], ['Francisco Cerundolo', 146, '61.5%', '26.9%'], ['Oscar Otte', 147, '80.6%', '20.0%'], ['Marc Andrea Huesler', 148, '82.0%', '19.6%'], ['Ivo Karlovic', 149, '92.0%', '8.5%'], ['Mohamed Safwat', 150, '74.2%', '19.2%']]\n"
     ]
    }
   ],
   "source": [
    "finallist = []###udeláme list, ve kterém jsou listy z údaji jednotlivých hráčů\n",
    "ranx = 0\n",
    "for nam in Names:\n",
    "    ranx += 1\n",
    "    soop = getSoup('http://www.minorleaguesplits.com/tennisabstract/cgi-bin/frags/'+nam+'.js')\n",
    "    playerlist = []\n",
    "    name_str = nam\n",
    "    name_list = []\n",
    "    name_list = re.findall('[A-Z][^A-Z]*', name_str)\n",
    "    namstr = ' '.join(map(str, name_list))\n",
    "    playerlist.append(namstr)\n",
    "    playerlist.append(ranx)\n",
    "    if (soop.find('table', {'id':'tour-years'})):\n",
    "        statstable = soop.find('table', {'id':'tour-years'})\n",
    "        statsdfs = pd.read_html(str(statstable), index_col = 0)\n",
    "        statsdf = statsdfs[0]\n",
    "        playerlist.append(statsdf.at['Career', 'Hld%'])\n",
    "        playerlist.append(statsdf.at['Career', 'Brk%'])\n",
    "    else:\n",
    "        playerlist.append(\"No data\")\n",
    "        playerlist.append(\"No data\")\n",
    "    finallist.append(playerlist)\n",
    "    \n",
    "print(finallist)"
   ]
  },
  {
   "cell_type": "code",
   "execution_count": 8,
   "metadata": {},
   "outputs": [
    {
     "data": {
      "text/html": [
       "<div>\n",
       "<style scoped>\n",
       "    .dataframe tbody tr th:only-of-type {\n",
       "        vertical-align: middle;\n",
       "    }\n",
       "\n",
       "    .dataframe tbody tr th {\n",
       "        vertical-align: top;\n",
       "    }\n",
       "\n",
       "    .dataframe thead th {\n",
       "        text-align: right;\n",
       "    }\n",
       "</style>\n",
       "<table border=\"1\" class=\"dataframe\">\n",
       "  <thead>\n",
       "    <tr style=\"text-align: right;\">\n",
       "      <th></th>\n",
       "      <th>Name</th>\n",
       "      <th>Rank</th>\n",
       "      <th>Hld%</th>\n",
       "      <th>Brk%</th>\n",
       "    </tr>\n",
       "  </thead>\n",
       "  <tbody>\n",
       "    <tr>\n",
       "      <th>0</th>\n",
       "      <td>Novak Djokovic</td>\n",
       "      <td>1</td>\n",
       "      <td>85.8%</td>\n",
       "      <td>32.1%</td>\n",
       "    </tr>\n",
       "    <tr>\n",
       "      <th>1</th>\n",
       "      <td>Rafael Nadal</td>\n",
       "      <td>2</td>\n",
       "      <td>85.9%</td>\n",
       "      <td>33.4%</td>\n",
       "    </tr>\n",
       "    <tr>\n",
       "      <th>2</th>\n",
       "      <td>Dominic Thiem</td>\n",
       "      <td>3</td>\n",
       "      <td>83.2%</td>\n",
       "      <td>23.8%</td>\n",
       "    </tr>\n",
       "    <tr>\n",
       "      <th>3</th>\n",
       "      <td>Daniil Medvedev</td>\n",
       "      <td>4</td>\n",
       "      <td>82.4%</td>\n",
       "      <td>25.5%</td>\n",
       "    </tr>\n",
       "    <tr>\n",
       "      <th>4</th>\n",
       "      <td>Roger Federer</td>\n",
       "      <td>5</td>\n",
       "      <td>88.8%</td>\n",
       "      <td>26.7%</td>\n",
       "    </tr>\n",
       "    <tr>\n",
       "      <th>...</th>\n",
       "      <td>...</td>\n",
       "      <td>...</td>\n",
       "      <td>...</td>\n",
       "      <td>...</td>\n",
       "    </tr>\n",
       "    <tr>\n",
       "      <th>145</th>\n",
       "      <td>Francisco Cerundolo</td>\n",
       "      <td>146</td>\n",
       "      <td>61.5%</td>\n",
       "      <td>26.9%</td>\n",
       "    </tr>\n",
       "    <tr>\n",
       "      <th>146</th>\n",
       "      <td>Oscar Otte</td>\n",
       "      <td>147</td>\n",
       "      <td>80.6%</td>\n",
       "      <td>20.0%</td>\n",
       "    </tr>\n",
       "    <tr>\n",
       "      <th>147</th>\n",
       "      <td>Marc Andrea Huesler</td>\n",
       "      <td>148</td>\n",
       "      <td>82.0%</td>\n",
       "      <td>19.6%</td>\n",
       "    </tr>\n",
       "    <tr>\n",
       "      <th>148</th>\n",
       "      <td>Ivo Karlovic</td>\n",
       "      <td>149</td>\n",
       "      <td>92.0%</td>\n",
       "      <td>8.5%</td>\n",
       "    </tr>\n",
       "    <tr>\n",
       "      <th>149</th>\n",
       "      <td>Mohamed Safwat</td>\n",
       "      <td>150</td>\n",
       "      <td>74.2%</td>\n",
       "      <td>19.2%</td>\n",
       "    </tr>\n",
       "  </tbody>\n",
       "</table>\n",
       "<p>150 rows × 4 columns</p>\n",
       "</div>"
      ],
      "text/plain": [
       "                    Name  Rank   Hld%   Brk%\n",
       "0         Novak Djokovic     1  85.8%  32.1%\n",
       "1           Rafael Nadal     2  85.9%  33.4%\n",
       "2          Dominic Thiem     3  83.2%  23.8%\n",
       "3        Daniil Medvedev     4  82.4%  25.5%\n",
       "4          Roger Federer     5  88.8%  26.7%\n",
       "..                   ...   ...    ...    ...\n",
       "145  Francisco Cerundolo   146  61.5%  26.9%\n",
       "146           Oscar Otte   147  80.6%  20.0%\n",
       "147  Marc Andrea Huesler   148  82.0%  19.6%\n",
       "148         Ivo Karlovic   149  92.0%   8.5%\n",
       "149       Mohamed Safwat   150  74.2%  19.2%\n",
       "\n",
       "[150 rows x 4 columns]"
      ]
     },
     "execution_count": 8,
     "metadata": {},
     "output_type": "execute_result"
    }
   ],
   "source": [
    "finalldf = pd.DataFrame(finallist, columns = ['Name', 'Rank', 'Hld%', 'Brk%'])###uděláme dataframe\n",
    "finalldf"
   ]
  },
  {
   "cell_type": "code",
   "execution_count": null,
   "metadata": {},
   "outputs": [],
   "source": []
  }
 ],
 "metadata": {
  "kernelspec": {
   "display_name": "Python 3",
   "language": "python",
   "name": "python3"
  },
  "language_info": {
   "codemirror_mode": {
    "name": "ipython",
    "version": 3
   },
   "file_extension": ".py",
   "mimetype": "text/x-python",
   "name": "python",
   "nbconvert_exporter": "python",
   "pygments_lexer": "ipython3",
   "version": "3.8.3"
  }
 },
 "nbformat": 4,
 "nbformat_minor": 4
}
